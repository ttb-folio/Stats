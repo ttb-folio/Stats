{
 "cells": [
  {
   "cell_type": "code",
   "execution_count": 1,
   "id": "b8f44f7f",
   "metadata": {},
   "outputs": [],
   "source": [
    "import numpy as np\n",
    "from sklearn.neighbors import BallTree\n",
    "from sklearn.datasets import make_blobs\n",
    "import matplotlib.pyplot as plt"
   ]
  },
  {
   "cell_type": "code",
   "execution_count": 2,
   "id": "0a65ede2",
   "metadata": {},
   "outputs": [],
   "source": [
    "class ArrayStats():\n",
    "    def __init__(self):\n",
    "        self.data = None\n",
    "        self.mean = None\n",
    "        self.mode = None\n",
    "        self.var = None\n",
    "        self.stdev = None\n",
    "    def fit(self, X):\n",
    "        self.data = X\n",
    "        self.mean_f()\n",
    "        self.mode_f()\n",
    "        self.var_f()\n",
    "    def mean_f(self):\n",
    "        self.mean = E_X(self.data)\n",
    "    def mode_f(self):\n",
    "        if self.data.ndim > 1:\n",
    "            ms_alg = MeanShift()\n",
    "            ms_alg.fit(self.data)\n",
    "            self.mode = ms_alg.return_modes()\n",
    "        else:\n",
    "            vals,counts = np.unique(self.data, return_counts = True)\n",
    "            self.mode = vals[counts == counts.max()]    \n",
    "    def var_f(self):\n",
    "        mean_array = np.tile(self.mean, (len(self.data),1))\n",
    "        sq_deviation_array = (self.data - mean_array)**2\n",
    "        variance = E_X(sq_deviation_array)\n",
    "        sigma = np.sqrt(variance)\n",
    "        self.var = variance\n",
    "        self.stdev = sigma\n",
    "    def stats(self):\n",
    "        print('Mean = {}\\n'.format(self.mean))\n",
    "        print('Mode = {}\\n'.format(self.mode))\n",
    "        print('Var = {}\\n'.format(self.var))"
   ]
  },
  {
   "cell_type": "code",
   "execution_count": 3,
   "id": "ce5cd2f4",
   "metadata": {},
   "outputs": [],
   "source": [
    "def E_X(x_array, p_array = None):\n",
    "    if p_array:\n",
    "        E_X = x_array.T.dot(np.expand_dims(p_array,axis = 1))\n",
    "    else:\n",
    "        E_X = np.mean(x_array, axis = 0)\n",
    "    return E_X\n",
    "def gaussian_kernel(x, x_, sigma = 1):\n",
    "    sq_dist = np.linalg.norm(x-x_)**2\n",
    "    rbf = np.exp(-0.5*sq_dist/(sigma**2))\n",
    "    return rbf\n",
    "def flat_kernel(x,x_,r = 1):\n",
    "    if np.linalg.norm(x-x_) <= r:\n",
    "        return 1\n",
    "    else:\n",
    "        return 0\n",
    "\n",
    "class MeanShift:\n",
    "    def __init__(self, kernel = flat_kernel, free_param = 1, num_decimal_pts = 4):\n",
    "        self.X = None\n",
    "        self.mX = None\n",
    "        self.k = kernel\n",
    "        self.free_param = free_param\n",
    "    def fit(self, X, max_itr = 500):\n",
    "        self.X = set([tuple(x) for x in X])\n",
    "        for itr in range(max_itr):\n",
    "            self.shift()\n",
    "    def shift(self):\n",
    "        X_array = np.array(list(self.X))\n",
    "        neighbors = BallTree(X_array).query_radius(X_array, r = self.free_param)\n",
    "        self.mX = set()\n",
    "        for idx, x in enumerate(X_array):\n",
    "            Nx = X_array[neighbors[idx]]\n",
    "            weighted_sum = float(0)\n",
    "            sum_of_weights = float(0)\n",
    "            for x_i in Nx:\n",
    "                w_i = self.k(x_i,x, self.free_param)\n",
    "                weighted_sum += w_i*x_i\n",
    "                sum_of_weights += w_i\n",
    "            m_x = weighted_sum / sum_of_weights\n",
    "            self.mX.add(tuple(np.round(m_x, decimals = 4)))\n",
    "        self.X = self.mX\n",
    "    def return_modes(self):\n",
    "        modes = np.array(list(self.mX))\n",
    "        return modes"
   ]
  },
  {
   "cell_type": "code",
   "execution_count": 4,
   "id": "559b71cf",
   "metadata": {},
   "outputs": [],
   "source": [
    "X, _ = make_blobs(n_samples = 500, centers = 5, cluster_std = 0.60)"
   ]
  },
  {
   "cell_type": "code",
   "execution_count": 5,
   "id": "c560b4ec",
   "metadata": {},
   "outputs": [],
   "source": [
    "data_stats = ArrayStats()\n",
    "data_stats.fit(X)"
   ]
  },
  {
   "cell_type": "code",
   "execution_count": 6,
   "id": "e7ae02f9",
   "metadata": {},
   "outputs": [],
   "source": [
    "mean = data_stats.mean\n",
    "mode = data_stats.mode"
   ]
  },
  {
   "cell_type": "code",
   "execution_count": 11,
   "id": "738b88f4",
   "metadata": {},
   "outputs": [
    {
     "data": {
      "image/png": "[encoded data removed]",
      "text/plain": [
       "<Figure size 432x288 with 1 Axes>"
      ]
     },
     "metadata": {
      "needs_background": "light"
     },
     "output_type": "display_data"
    }
   ],
   "source": [
    "plt.figure()\n",
    "plt.scatter(X[:,0],X[:,1], c = 'b', label = 'data')\n",
    "plt.scatter(mode[:,0], mode[:,1],c = 'r', label = 'mode')\n",
    "plt.scatter(mean[0], mean[1], c = 'g', label = 'mean')\n",
    "plt.legend()\n",
    "plt.show()"
   ]
  },
  {
   "cell_type": "code",
   "execution_count": 8,
   "id": "c31df861",
   "metadata": {},
   "outputs": [],
   "source": [
    "#Meanshift does a good job of finding the modes without specifying the number of clusters"
   ]
  }
 ],
 "metadata": {
  "kernelspec": {
   "display_name": "Python 3",
   "language": "python",
   "name": "python3"
  },
  "language_info": {
   "codemirror_mode": {
    "name": "ipython",
    "version": 3
   },
   "file_extension": ".py",
   "mimetype": "text/x-python",
   "name": "python",
   "nbconvert_exporter": "python",
   "pygments_lexer": "ipython3",
   "version": "3.8.8"
  }
 },
 "nbformat": 4,
 "nbformat_minor": 5
}
